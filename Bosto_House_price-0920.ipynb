{
 "cells": [
  {
   "cell_type": "raw",
   "metadata": {},
   "source": [
    "【線形回帰とは何か】\n",
    "複数の変数における相関関係を直線モデルによって説明しようとする分析手法。\n",
    "「原因」（説明変数）を横軸に、「結果」（被説明変数）を縦軸にとった散布図を作り、２つの変数が比例関係にある場合に、最も当てはまりの良い直線を引く作業。\n",
    "データから対象の属するカテゴリーを予測するのが「分類問題」、値を予測するのが「回帰問題」。"
   ]
  },
  {
   "cell_type": "code",
   "execution_count": 3,
   "metadata": {},
   "outputs": [
    {
     "name": "stdout",
     "output_type": "stream",
     "text": [
      "一次式における'LSTAT'の住宅価格への決定係数は0.57\n"
     ]
    }
   ],
   "source": [
    "from sklearn import cross_validation\n",
    "from sklearn.datasets import load_boston\n",
    "\n",
    "import pandas as pd\n",
    "import numpy as np\n",
    "\n",
    "from sklearn.linear_model import Ridge\n",
    "from sklearn.preprocessing import PolynomialFeatures\n",
    "from sklearn.linear_model import LinearRegression\n",
    "from sklearn.metrics import mean_squared_error\n",
    "\n",
    "boston = load_boston()\n",
    "\n",
    "X=pd.DataFrame(boston.data, columns=boston.feature_names)\n",
    "y=boston.target\n",
    "x = X.loc[:, ['LSTAT']].as_matrix()\n",
    "\n",
    "from sklearn.cross_validation import train_test_split\n",
    "x_train,x_test,y_train,y_test=train_test_split(x,y,test_size=0.2,random_state=0)\n",
    "\n",
    "lin_1d = LinearRegression()\n",
    "lin_1d.fit(x_train, y_train)\n",
    "\n",
    "score_1d = lin_1d.score(x_train, y_train)\n",
    "print(\"一次式における'LSTAT'の住宅価格への決定係数は%.2f\"%(score_1d))"
   ]
  },
  {
   "cell_type": "raw",
   "metadata": {},
   "source": [
    "【単回帰と重回帰についての違いを記述せよ】\n",
    "１つの特徴量から算出するのが単回帰。\n",
    "重回帰では複数の特徴量を使って予想を行う。"
   ]
  },
  {
   "cell_type": "raw",
   "metadata": {},
   "source": [
    "【決定係数とは何か記述せよ】\n",
    "汎化能力を測定するために使われる尺度。\n",
    "もっとも説明変数が、目的変数を説明できる場合、決定係数は１となる。\n",
    "標準化された２乗誤差で求めることができる。"
   ]
  },
  {
   "cell_type": "raw",
   "metadata": {},
   "source": [
    "【決定係数をいかなる場合も信じても良いか記述せよ】\n",
    "トレーニングデータのノイズまで含めてしっかり学習してしまう場合（過学習）、決定係数が正しく評価できない。\n",
    "またある変数の影響の有無が主眼であり予測は重視しない場合には、決定係数に注目することはあまり意味がない。"
   ]
  },
  {
   "cell_type": "code",
   "execution_count": 4,
   "metadata": {},
   "outputs": [
    {
     "name": "stdout",
     "output_type": "stream",
     "text": [
      "二次式における'LSTAT'の住宅価格への決定係数は0.52\n",
      "三次式における'LSTAT'の住宅価格への決定係数は0.54\n",
      "四次式における'LSTAT'の住宅価格への決定係数は0.57\n"
     ]
    }
   ],
   "source": [
    "lin_2d = LinearRegression()\n",
    "lin_3d = LinearRegression()\n",
    "lin_4d = LinearRegression()\n",
    "\n",
    "degree_2 = PolynomialFeatures(degree=2)\n",
    "degree_3 = PolynomialFeatures(degree=3)\n",
    "degree_4 = PolynomialFeatures(degree=4)\n",
    "\n",
    "x_train_2 = degree_2.fit_transform(x_train)\n",
    "x_train_3 = degree_3.fit_transform(x_train)\n",
    "x_train_4 = degree_4.fit_transform(x_train)\n",
    "\n",
    "lin_2d.fit(x_train_2,y_train)\n",
    "lin_3d.fit(x_train_3,y_train)\n",
    "lin_4d.fit(x_train_4,y_train)\n",
    "\n",
    "x_test_2 = degree_2.fit_transform(x_test)\n",
    "x_test_3 = degree_3.fit_transform(x_test)\n",
    "x_test_4 = degree_4.fit_transform(x_test)\n",
    "\n",
    "score_2d = lin_2d.score(x_test_2, y_test)\n",
    "score_3d = lin_3d.score(x_test_3, y_test)\n",
    "score_4d = lin_4d.score(x_test_4, y_test)\n",
    "\n",
    "print(\"二次式における'LSTAT'の住宅価格への決定係数は%.2f\"%(score_2d))\n",
    "print(\"三次式における'LSTAT'の住宅価格への決定係数は%.2f\"%(score_3d))\n",
    "print(\"四次式における'LSTAT'の住宅価格への決定係数は%.2f\"%(score_4d))"
   ]
  },
  {
   "cell_type": "raw",
   "metadata": {},
   "source": [
    "【次数が大きくなるとどうなるか記述せよ】\n",
    "・説明変数をxとして、次数を増やしていくとどのように数式が変化していくか記述せよ（1次式 ax + b）\n",
    "→ax2+bx+c、ax3+bx2+cx+d、ax4+bx3+cx2+dx+e、・・・\n",
    "（自乗の書き方がわからないためxの次を自乗と捉えて頂けたらと思います。）\n",
    "\n",
    "・次数を増やすとどのようなメリットが考えられるか\n",
    "→よりデータに即したモデルを表現できる\n",
    "\n",
    "・次数を増やすとどのようなデメリットが考えられるか\n",
    "→データのノイズまで含めて学習してしまう"
   ]
  },
  {
   "cell_type": "code",
   "execution_count": 24,
   "metadata": {},
   "outputs": [
    {
     "name": "stdout",
     "output_type": "stream",
     "text": [
      "0.646514163496\n",
      "0.80559561713\n",
      "0.788542669278\n",
      "0.904755595566\n",
      "0.911026532605\n",
      "0.914118337518\n",
      "0.875130133774\n",
      "0.649460976371\n",
      "0.967436922008\n",
      "0.981534387903\n"
     ]
    }
   ],
   "source": [
    "xx=X.loc[:,['RM','LSTAT','CRIM', 'AGE']].as_matrix()\n",
    "dimA = np.arange(1, 11)\n",
    "for d in dimA:\n",
    "    degree_ = PolynomialFeatures(degree=d)\n",
    "    xx_ = degree_.fit_transform(xx)\n",
    "    lin_=LinearRegression()\n",
    "    lin_.fit(xx_,y)\n",
    "    score_xx = lin_.score(xx_, y)\n",
    "    print(score_xx)"
   ]
  },
  {
   "cell_type": "raw",
   "metadata": {},
   "source": [
    "【重回帰について記述せよ】\n",
    "説明変数を増やすことで予測の精度を上げることができる。\n",
    "しかし、説明変数を増やすことでデータのノイズまで含めて学習してしまう。"
   ]
  }
 ],
 "metadata": {
  "kernelspec": {
   "display_name": "Python 3",
   "language": "python",
   "name": "python3"
  },
  "language_info": {
   "codemirror_mode": {
    "name": "ipython",
    "version": 3
   },
   "file_extension": ".py",
   "mimetype": "text/x-python",
   "name": "python",
   "nbconvert_exporter": "python",
   "pygments_lexer": "ipython3",
   "version": "3.6.1"
  }
 },
 "nbformat": 4,
 "nbformat_minor": 2
}
